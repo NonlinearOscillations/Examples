{
 "cells": [
  {
   "cell_type": "markdown",
   "metadata": {},
   "source": [
    "## Import HarmonicBalance"
   ]
  },
  {
   "cell_type": "code",
   "execution_count": null,
   "metadata": {},
   "outputs": [],
   "source": [
    "using HarmonicBalance"
   ]
  },
  {
   "cell_type": "markdown",
   "metadata": {},
   "source": [
    "## Problem definition"
   ]
  },
  {
   "cell_type": "markdown",
   "metadata": {},
   "source": [
    "## We are analyzing two coupled parametrons, governed by\n",
    "$$\\ddot{x}_1+\\omega_1^2(1-\\lambda \\cos(2\\omega t))x_1+\\gamma\\dot{x}_1 + \\alpha_1 x_1^3 - Jx_2=0\\\\\n",
    "\\ddot{x}_2+\\omega_2^2(1-\\lambda \\cos(2\\omega t))x_2+\\gamma\\dot{x}_2 + \\alpha_2 x_2^3 - Jx_1=0$$"
   ]
  },
  {
   "cell_type": "markdown",
   "metadata": {},
   "source": [
    "Define problem variables, parameters using the Symbolics.jl @variables macro. Time variables also need to be included"
   ]
  },
  {
   "cell_type": "code",
   "execution_count": null,
   "metadata": {},
   "outputs": [],
   "source": [
    "@variables x, y, ω₁, ω₂,ω, γ,λ, t, T, ω, α₁, α₂, J;\n",
    "@variables x(t), y(t);"
   ]
  },
  {
   "cell_type": "markdown",
   "metadata": {},
   "source": [
    "Introduce equations to solve via DifferentialEquation input method"
   ]
  },
  {
   "cell_type": "code",
   "execution_count": null,
   "metadata": {},
   "outputs": [],
   "source": [
    "natural_equation = [d(d(x, t),t) + ω₁^2*(1-λ*cos(2*ω*t)) * x + γ*d(x,t)  + α₁*x^3 - J*y , \n",
    "                    d(d(y,t),t)  + ω₂^2*(1-λ*cos(2*ω*t)) * y + γ*d(y,t)  + α₂*y^3 - J*x] \n",
    "\n",
    "dEOM_coupled = HarmonicBalance.DifferentialEquation(natural_equation, [x, y])\n",
    "\n",
    "show(dEOM_coupled)"
   ]
  },
  {
   "cell_type": "markdown",
   "metadata": {},
   "source": [
    "We haven't introduced harmonics yet. let's do that now"
   ]
  },
  {
   "cell_type": "code",
   "execution_count": null,
   "metadata": {},
   "outputs": [],
   "source": [
    "HarmonicBalance.add_harmonic!(dEOM_coupled, x, ω) # x will rotate at ω\n",
    "HarmonicBalance.add_harmonic!(dEOM_coupled, y, ω) # x will rotate at ω\n",
    "show(dEOM_coupled)"
   ]
  },
  {
   "cell_type": "markdown",
   "metadata": {},
   "source": [
    "Let's introduce our ansatz and let Harmonic Balance do the work for us"
   ]
  },
  {
   "cell_type": "code",
   "execution_count": null,
   "metadata": {},
   "outputs": [],
   "source": [
    "@time averagedEOM = HarmonicBalance.get_harmonic_equations(dEOM_coupled, slow_time=T, fast_time=t)"
   ]
  },
  {
   "cell_type": "markdown",
   "metadata": {},
   "source": [
    "![ChessUrl](https://c.tenor.com/VxSRLg7hSHMAAAAS/carlton-dance.gif \"chess\")"
   ]
  },
  {
   "cell_type": "markdown",
   "metadata": {},
   "source": [
    "## Solving for steadystates"
   ]
  },
  {
   "cell_type": "markdown",
   "metadata": {},
   "source": [
    "Let's solve for the slow-flow amplitudes $u1,u2,v1,v2$ in the steadystate. We will use homotopy continuation for that. In order to talk with the fantastic HomotopyContinuation.jl, we create a Problem instance. \n",
    "\n",
    "This holds the steady-state equations, and (optionally) the symbolic Jacobian which is needed for stability / linear response calculations. "
   ]
  },
  {
   "cell_type": "code",
   "execution_count": null,
   "metadata": {},
   "outputs": [],
   "source": [
    "problem_coupled = HarmonicBalance.Problem(averagedEOM)"
   ]
  },
  {
   "cell_type": "markdown",
   "metadata": {},
   "source": [
    "Now the actual calculation: we analyze steadystates for varying external drive frequency, while fixing other parameters. We use ParameterRange and ParameterList types for that (basically ordered dictionaries)"
   ]
  },
  {
   "cell_type": "code",
   "execution_count": null,
   "metadata": {},
   "outputs": [],
   "source": [
    "fixed_parameters = ParameterList([(ω₁, 1.),( ω₂, 1. ),(γ, 0.001 ),(α₁,  1.),(α₂, 1.),(λ,5E-2),(J,0.05)])\n",
    "swept_parameters = ParameterRange(ω => LinRange(0.75,1.25, 100))"
   ]
  },
  {
   "cell_type": "markdown",
   "metadata": {},
   "source": [
    "Get steady states!.\n",
    "\n",
    "With random_warmup=True, we first solve the problem for some synthetic, complex parameters. These allow to filter out many solution paths that end up in $\\infty$. After obtained solutions from this general complex system, we track the solutions to the real system for each parameter value."
   ]
  },
  {
   "cell_type": "code",
   "execution_count": null,
   "metadata": {},
   "outputs": [],
   "source": [
    "result = HarmonicBalance.get_steady_states(problem_coupled, swept_parameters, fixed_parameters; random_warmup=true, threading=false)"
   ]
  },
  {
   "cell_type": "markdown",
   "metadata": {},
   "source": [
    "![ChessUrl](https://i.giphy.com/media/StWnlQipuBrz2/giphy.webp \"chess\")"
   ]
  },
  {
   "cell_type": "markdown",
   "metadata": {},
   "source": [
    "## Plotting solutions"
   ]
  },
  {
   "cell_type": "markdown",
   "metadata": {},
   "source": [
    "The most-basic plot we can do is checking the amplitudes $X_i=\\sqrt{u_i^2+v_i^2}$. "
   ]
  },
  {
   "cell_type": "code",
   "execution_count": null,
   "metadata": {},
   "outputs": [],
   "source": [
    "HarmonicBalance.plot_1D_solutions(result, x=\"ω\", y=\"sqrt(u1^2 + v1^2)\", plot_only=[\"physical\"])#,filename=\"plot_1D\");\n",
    "HarmonicBalance.plot_1D_solutions(result, x=\"ω\", y=\"sqrt(u2^2 + v2^2)\", plot_only=[\"physical\"])#,filename=\"plot_1D\");"
   ]
  },
  {
   "cell_type": "markdown",
   "metadata": {},
   "source": [
    "A bit confusing. Let's look at one resonator only"
   ]
  },
  {
   "cell_type": "code",
   "execution_count": null,
   "metadata": {},
   "outputs": [],
   "source": [
    "HarmonicBalance.plot_1D_solutions(result, x=\"ω\", y=\"sqrt(u1^2 + v1^2)\", plot_only=[\"physical\",\"stable\"])#,filename=\"plot_1D\");"
   ]
  },
  {
   "cell_type": "markdown",
   "metadata": {},
   "source": [
    "We can get insight on how the solutions where classified"
   ]
  },
  {
   "cell_type": "code",
   "execution_count": null,
   "metadata": {},
   "outputs": [],
   "source": [
    "HarmonicBalance.plot_1D_jacobian_eigenvalues(result, x=\"ω\", physical=true, stable=false)"
   ]
  },
  {
   "cell_type": "markdown",
   "metadata": {},
   "source": [
    "You can save the output of the simulation to a .jld2 via save function, and load it via load"
   ]
  },
  {
   "cell_type": "code",
   "execution_count": null,
   "metadata": {},
   "outputs": [],
   "source": [
    "HarmonicBalance.save(\"1D_sweep\",result)\n",
    "HarmonicBalance.load(\"1D_sweep.jld2\")"
   ]
  },
  {
   "cell_type": "markdown",
   "metadata": {},
   "source": [
    "## Two-dimensional parametric sweeps"
   ]
  },
  {
   "cell_type": "markdown",
   "metadata": {},
   "source": [
    "Now let's assume we know relatively well what happens with an isolated parametron. We want to analyse how the frequency response changes because of the coupling to the other parametron. This type of problem is appropriate for a 2D sweep over $(\\omega,J)$. \n",
    "\n",
    "We can simply add another parameter to ParameterRange and call the same get_steadystates function\n",
    "\n",
    "It is convenient to sort the solutions for plotting. Nearest neighbor complex solutions are matched if sorting=\"naive\""
   ]
  },
  {
   "cell_type": "code",
   "execution_count": null,
   "metadata": {},
   "outputs": [],
   "source": [
    "fixed_parameters = ParameterList([(ω₁, 1.),( ω₂, 1. ),(γ, 0.001 ),(α₁,  0.01),(α₂, 0.01),(λ,0.2)])\n",
    "swept_parameters = ParameterRange(ω => LinRange(0.75,1.25, 100),J=>LinRange(0.,0.2,100));\n",
    "\n",
    "@time result = HarmonicBalance.get_steady_states(problem_coupled, swept_parameters, fixed_parameters; random_warmup=true, threading=false,sorting=\"naive\")"
   ]
  },
  {
   "cell_type": "markdown",
   "metadata": {},
   "source": [
    "A simple, useful visualization is to see what's the number of solutions for each point of the 2D grid"
   ]
  },
  {
   "cell_type": "code",
   "execution_count": null,
   "metadata": {},
   "outputs": [],
   "source": [
    "HarmonicBalance.plot_2D_phase_diagram(result, stable=false,observable=\"nsols\")"
   ]
  },
  {
   "cell_type": "markdown",
   "metadata": {},
   "source": [
    "Still, this plot is agnostic to some features of the bifurcation topology. Look at interactive versions"
   ]
  },
  {
   "cell_type": "code",
   "execution_count": null,
   "metadata": {},
   "outputs": [],
   "source": [
    "HarmonicBalance.plot_2D_phase_diagram_interactive(result, stable=false, nrows=2, ncols=3,cut_dim=\"1\",cut_type=\"solutions\",observable=\"nsols\")"
   ]
  },
  {
   "cell_type": "code",
   "execution_count": null,
   "metadata": {},
   "outputs": [],
   "source": [
    "HarmonicBalance.plot_2D_phase_diagram_interactive(result, stable=false, nrows=2, ncols=2,cut_dim=\"1\",cut_type=\"transform\",observable=\"nsols\",string_f=[\"sqrt(u1^2 + v1^2)\",\"sqrt(u2^2 + v2^2)\"])"
   ]
  },
  {
   "cell_type": "code",
   "execution_count": null,
   "metadata": {},
   "outputs": [],
   "source": [
    "HarmonicBalance.plot_2D_phase_diagram_interactive(result, stable=false, nrows=5, ncols=6,cut_dim=\"1\",cut_type=\"jacobian_eigenvalues\",observable=\"nsols\")"
   ]
  },
  {
   "cell_type": "markdown",
   "metadata": {},
   "source": [
    "# Now it's turn turn! . Please pick one of the Exercises below"
   ]
  },
  {
   "attachments": {},
   "cell_type": "markdown",
   "metadata": {},
   "source": [
    "## Red pill exercise "
   ]
  },
  {
   "cell_type": "markdown",
   "metadata": {},
   "source": [
    "* Find the frequency conversion in a parametron with a cubic nonlinearity by analysing the solutions around half the parametric drive $\\omega$ and $3\\omega$. \n",
    "\n",
    "$$\\ddot{x}+\\omega_1^2(1-\\lambda \\cos(2\\omega t))x+\\gamma\\dot{x} + \\alpha x^3=0$$\n",
    "\n",
    "* Then include a fifth order nonlinearity and include extra necessary harmonics. \n",
    "$$\\ddot{x}+\\omega_1^2(1-\\lambda \\cos(2\\omega t))x+\\gamma\\dot{x} + \\alpha x^3 + \\beta x^5=0$$\n",
    "How many harmonics do you need to reach convergence?\n",
    "\n",
    "* Compare the number of solutions as a function of  drive frequency and frequency modulation parameter $\\lambda$. Do you find a regime where new solutions appear?.\n",
    "\n",
    "* Do the solutions converge as you add more tones?"
   ]
  },
  {
   "cell_type": "markdown",
   "metadata": {},
   "source": [
    "## Blue pill exercise "
   ]
  },
  {
   "cell_type": "markdown",
   "metadata": {},
   "source": [
    "* Take three Kerr resonators with three different, non commensurable frequencies. \n",
    "* Add driving to one resonator and time-dependent couplings at the frequency difference of these modes, letting some nonzero phase $J_{ij}(t)=J\\cos((\\omega_i-\\omega_j)t + \\phi_{ij})$ (assume $\\phi_{ij}=-\\phi_{ji}$). \n",
    "\n",
    "$$\\ddot{x}_1+\\omega_1^2(1-\\lambda \\cos(2\\omega t))x_1+\\gamma\\dot{x}_1 + \\alpha_1 x_1^3 - J_{12}(t)x_2 - J_{13}(t)x_3=0\\\\\n",
    "\\ddot{x}_2+\\omega_2^2(1-\\lambda \\cos(2\\omega t))x_2+\\gamma\\dot{x}_2 + \\alpha_2 x_2^3 - J_{21}(t)x_1 - J_{23}(t)x_3=0\\\\\n",
    "\\ddot{x}_3+\\omega_3^2(1-\\lambda \\cos(2\\omega t))x_3+\\gamma\\dot{x}_2 + \\alpha_3 x_2^3 - J_{31}(t)x_1- J_{32}(t)x_2=0$$\n",
    "\n",
    "* Find how solution amplitudes and linear fluctuation dynamics (Jacobian eigenvalues) depend on phases and nonlinearity when resonators form a ring or a chain. For it, analyse solutions vs coupling and phase\n",
    "* Optional: Is there is any gauge symmetry in the problem? for example invariance with respect to some phase shift: $\\phi_{12} \\rightarrow \\phi_{12} + \\delta, \\phi_{23}->\\phi_{23} - \\delta$).  Are symmetries broken by the nonlinear coefficient?"
   ]
  },
  {
   "cell_type": "code",
   "execution_count": null,
   "metadata": {},
   "outputs": [],
   "source": []
  }
 ],
 "metadata": {
  "kernelspec": {
   "display_name": "Julia 1.7.0",
   "language": "julia",
   "name": "julia-1.7"
  },
  "language_info": {
   "file_extension": ".jl",
   "mimetype": "application/julia",
   "name": "julia",
   "version": "1.7.0"
  }
 },
 "nbformat": 4,
 "nbformat_minor": 4
}
