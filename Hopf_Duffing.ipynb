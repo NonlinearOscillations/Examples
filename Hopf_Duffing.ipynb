{
 "cells": [
  {
   "cell_type": "code",
   "execution_count": 1,
   "metadata": {},
   "outputs": [
    {
     "name": "stderr",
     "output_type": "stream",
     "text": [
      "\u001b[32m\u001b[1m  Activating\u001b[22m\u001b[39m project at `~/.julia/environments/v1.7`\n"
     ]
    }
   ],
   "source": [
    "using Revise, HarmonicBalance"
   ]
  },
  {
   "cell_type": "markdown",
   "metadata": {},
   "source": [
    "# Define the differential equation of motion"
   ]
  },
  {
   "cell_type": "code",
   "execution_count": 2,
   "metadata": {},
   "outputs": [],
   "source": [
    "@variables α, ω, ω0, F, t, η, Δω, x(t);"
   ]
  },
  {
   "cell_type": "code",
   "execution_count": 30,
   "metadata": {},
   "outputs": [
    {
     "data": {
      "text/plain": [
       "A set of 6 harmonic equations\n",
       "Variables: u1(T), v1(T), u2(T), v2(T), u3(T), v3(T)\n",
       "Parameters: α, ω, Δω, ω0, F\n",
       "\n",
       "Harmonic ansatz: \n",
       "x(t) = u1(T)*cos(ωt) + v1(T)*sin(ωt) + u2(T)*cos(Δω + ωt) + v2(T)*sin(Δω + ωt) + u3(T)*cos(ω - Δωt) + v3(T)*sin(ω - Δωt)\n",
       "\n",
       "Harmonic equations:\n",
       "\n",
       "(ω0^2)*u1(T) + (3//4)*α*(u1(T)^3) + (2//1)*ω*Differential(T)(v1(T)) + (3//2)*α*(u2(T)^2)*u1(T) + (3//2)*α*(u3(T)^2)*u1(T) + (3//4)*α*(v1(T)^2)*u1(T) + (3//2)*α*(v2(T)^2)*u1(T) + (3//2)*α*(v3(T)^2)*u1(T) + (3//2)*α*u1(T)*u2(T)*u3(T) + (3//2)*α*u2(T)*v1(T)*v3(T) + (3//2)*α*u3(T)*v1(T)*v2(T) - (ω^2)*u1(T) - (3//2)*α*u1(T)*v2(T)*v3(T) ~ F\n",
       "\n",
       "(ω0^2)*v1(T) + (3//4)*α*(v1(T)^3) + (3//4)*α*(u1(T)^2)*v1(T) + (3//2)*α*(u2(T)^2)*v1(T) + (3//2)*α*(u3(T)^2)*v1(T) + (3//2)*α*(v2(T)^2)*v1(T) + (3//2)*α*(v3(T)^2)*v1(T) + (3//2)*α*u1(T)*u2(T)*v3(T) + (3//2)*α*u1(T)*u3(T)*v2(T) + (3//2)*α*v1(T)*v2(T)*v3(T) - (ω^2)*v1(T) - (2//1)*ω*Differential(T)(u1(T)) - (3//2)*α*u2(T)*u3(T)*v1(T) ~ 0\n",
       "\n",
       "(ω0^2)*u2(T) + (2//1)*Δω*Differential(T)(v2(T)) + (3//4)*α*(u2(T)^3) + (2//1)*ω*Differential(T)(v2(T)) + (3//2)*α*(u1(T)^2)*u2(T) + (3//4)*α*(u1(T)^2)*u3(T) + (3//4)*α*(v2(T)^2)*u2(T) + (3//2)*α*(u3(T)^2)*u2(T) + (3//2)*α*(v1(T)^2)*u2(T) + (3//2)*α*(v3(T)^2)*u2(T) + (3//2)*α*u1(T)*v1(T)*v3(T) - (Δω^2)*u2(T) - (ω^2)*u2(T) - (2//1)*Δω*ω*u2(T) - (3//4)*α*(v1(T)^2)*u3(T) ~ 0\n",
       "\n",
       "(ω0^2)*v2(T) + (3//4)*α*(v2(T)^3) + (3//4)*α*(u2(T)^2)*v2(T) + (3//2)*α*(u1(T)^2)*v2(T) + (3//2)*α*(u3(T)^2)*v2(T) + (3//2)*α*(v1(T)^2)*v2(T) + (3//2)*α*(v3(T)^2)*v2(T) + (3//4)*α*(v1(T)^2)*v3(T) + (3//2)*α*u1(T)*u3(T)*v1(T) - (2//1)*Δω*Differential(T)(u2(T)) - (2//1)*ω*Differential(T)(u2(T)) - (Δω^2)*v2(T) - (ω^2)*v2(T) - (2//1)*Δω*ω*v2(T) - (3//4)*α*(u1(T)^2)*v3(T) ~ 0\n",
       "\n",
       "(ω0^2)*u3(T) + (3//4)*α*(u3(T)^3) + (2//1)*ω*Differential(T)(v3(T)) + (3//4)*α*(u1(T)^2)*u2(T) + (3//2)*α*(u1(T)^2)*u3(T) + (3//2)*α*(u2(T)^2)*u3(T) + (3//2)*α*(v1(T)^2)*u3(T) + (3//4)*α*(v3(T)^2)*u3(T) + (3//2)*α*(v2(T)^2)*u3(T) + (2//1)*Δω*ω*u3(T) + (3//2)*α*u1(T)*v1(T)*v2(T) - (2//1)*Δω*Differential(T)(v3(T)) - (Δω^2)*u3(T) - (ω^2)*u3(T) - (3//4)*α*(v1(T)^2)*u2(T) ~ 0\n",
       "\n",
       "(ω0^2)*v3(T) + (2//1)*Δω*Differential(T)(u3(T)) + (3//4)*α*(v3(T)^3) + (2//1)*Δω*ω*v3(T) + (3//4)*α*(v1(T)^2)*v2(T) + (3//4)*α*(u3(T)^2)*v3(T) + (3//2)*α*(u1(T)^2)*v3(T) + (3//2)*α*(u2(T)^2)*v3(T) + (3//2)*α*(v1(T)^2)*v3(T) + (3//2)*α*(v2(T)^2)*v3(T) + (3//2)*α*u1(T)*u2(T)*v1(T) - (2//1)*ω*Differential(T)(u3(T)) - (Δω^2)*v3(T) - (ω^2)*v3(T) - (3//4)*α*(u1(T)^2)*v2(T) ~ 0\n"
      ]
     },
     "execution_count": 30,
     "metadata": {},
     "output_type": "execute_result"
    }
   ],
   "source": [
    "diff_eq = DifferentialEquation(d(x,t,2) + ω0^2*x + α*x^3 ~ F*cos(ω*t), x)\n",
    "add_harmonic!(diff_eq, x, ω) # specify the ansatz x = u(T) cos(ωt) + v(T) sin(ωt)\n",
    "add_Hopf!(diff_eq, Δω)\n",
    "\n",
    "# implement ansatz to get harmonic equations\n",
    "harmonic_eq = get_harmonic_equations(diff_eq)\n"
   ]
  },
  {
   "cell_type": "markdown",
   "metadata": {},
   "source": [
    "# Hopf manipulation"
   ]
  },
  {
   "cell_type": "code",
   "execution_count": 22,
   "metadata": {},
   "outputs": [],
   "source": [
    "# remove one Hopf variable, replace by Δω\n",
    "prob = HarmonicBalance.Hopf._Hopf_Problem(harmonic_eq, Δω);\n",
    "\n",
    "# show the current variables\n",
    "#get_variables(harmonic_eq)"
   ]
  },
  {
   "cell_type": "code",
   "execution_count": 23,
   "metadata": {},
   "outputs": [
    {
     "data": {
      "text/plain": [
       "5×5 Matrix{ComplexF64}:\n",
       "  -0.52216+0.0im    2.31908+0.0im  …   0.889323+0.0im  -0.964784+0.0im\n",
       "  -3.93084+0.0im    0.52216+0.0im       2.13917+0.0im   -1.83923+0.0im\n",
       "   -2.7188+0.0im    1.13029+0.0im       4.63815+0.0im   -1.46846+0.0im\n",
       " -0.935889+0.0im   0.104088+0.0im     -0.113705+0.0im  -0.918291+0.0im\n",
       "  0.900512+0.0im  -0.176012+0.0im     -0.732977+0.0im        0.0+0.0im"
      ]
     },
     "execution_count": 23,
     "metadata": {},
     "output_type": "execute_result"
    }
   ],
   "source": [
    "using HarmonicBalance.DataStructures\n",
    "var_soln = Dict([v => randn() for v in HarmonicBalance._remove_brackets.(harmonic_eq.variables)])\n",
    "dum_soln = merge(Dict(α => 1.0, F => 0.01, ω => 1.0, ω0 => 1.05), var_soln)\n",
    "prob.jacobian(OrderedDict(dum_soln))"
   ]
  },
  {
   "cell_type": "code",
   "execution_count": 27,
   "metadata": {},
   "outputs": [
    {
     "data": {
      "text/latex": [
       "\\begin{align}\n",
       "{\\omega}0^{2} \\mathrm{u1}\\left( T \\right) + \\frac{3}{4} \\left( \\mathrm{u1}\\left( T \\right) \\right)^{3} \\alpha - \\omega^{2} \\mathrm{u1}\\left( T \\right) + 2 \\omega \\frac{dv1(T)}{dT} + \\frac{3}{4} \\left( \\mathrm{v1}\\left( T \\right) \\right)^{2} \\alpha \\mathrm{u1}\\left( T \\right) + \\frac{3}{2} \\left( \\mathrm{u2}\\left( T \\right) \\right)^{2} \\alpha \\mathrm{u1}\\left( T \\right) + \\frac{3}{2} \\left( \\mathrm{u3}\\left( T \\right) \\right)^{2} \\alpha \\mathrm{u1}\\left( T \\right) + \\frac{3}{2} \\left( \\mathrm{v2}\\left( T \\right) \\right)^{2} \\alpha \\mathrm{u1}\\left( T \\right) + \\frac{3}{2} \\alpha \\mathrm{u1}\\left( T \\right) \\mathrm{u2}\\left( T \\right) \\mathrm{u3}\\left( T \\right) + \\frac{3}{2} \\alpha \\mathrm{u3}\\left( T \\right) \\mathrm{v1}\\left( T \\right) \\mathrm{v2}\\left( T \\right) =& F \\\\\n",
       "{\\omega}0^{2} \\mathrm{v1}\\left( T \\right) + \\frac{3}{4} \\left( \\mathrm{v1}\\left( T \\right) \\right)^{3} \\alpha - \\omega^{2} \\mathrm{v1}\\left( T \\right) - 2 \\omega \\frac{du1(T)}{dT} + \\frac{3}{4} \\left( \\mathrm{u1}\\left( T \\right) \\right)^{2} \\alpha \\mathrm{v1}\\left( T \\right) + \\frac{3}{2} \\left( \\mathrm{u2}\\left( T \\right) \\right)^{2} \\alpha \\mathrm{v1}\\left( T \\right) + \\frac{3}{2} \\left( \\mathrm{u3}\\left( T \\right) \\right)^{2} \\alpha \\mathrm{v1}\\left( T \\right) + \\frac{3}{2} \\left( \\mathrm{v2}\\left( T \\right) \\right)^{2} \\alpha \\mathrm{v1}\\left( T \\right) - \\frac{3}{2} \\alpha \\mathrm{u2}\\left( T \\right) \\mathrm{u3}\\left( T \\right) \\mathrm{v1}\\left( T \\right) + \\frac{3}{2} \\alpha \\mathrm{u1}\\left( T \\right) \\mathrm{u3}\\left( T \\right) \\mathrm{v2}\\left( T \\right) =& 0 \\\\\n",
       "{\\omega}0^{2} \\mathrm{u2}\\left( T \\right) + \\frac{3}{4} \\left( \\mathrm{u2}\\left( T \\right) \\right)^{3} \\alpha - \\omega^{2} \\mathrm{u2}\\left( T \\right) + 2 \\omega \\frac{dv2(T)}{dT} - \\left( \\mathrm{\\Delta\\omega}\\left( T \\right) \\right)^{2} \\mathrm{u2}\\left( T \\right) + 2 \\mathrm{\\Delta\\omega}\\left( T \\right) \\frac{dv2(T)}{dT} + \\frac{3}{2} \\left( \\mathrm{u1}\\left( T \\right) \\right)^{2} \\alpha \\mathrm{u2}\\left( T \\right) + \\frac{3}{4} \\left( \\mathrm{u1}\\left( T \\right) \\right)^{2} \\alpha \\mathrm{u3}\\left( T \\right) - \\frac{3}{4} \\left( \\mathrm{v1}\\left( T \\right) \\right)^{2} \\alpha \\mathrm{u3}\\left( T \\right) + \\frac{3}{4} \\left( \\mathrm{v2}\\left( T \\right) \\right)^{2} \\alpha \\mathrm{u2}\\left( T \\right) + \\frac{3}{2} \\left( \\mathrm{u3}\\left( T \\right) \\right)^{2} \\alpha \\mathrm{u2}\\left( T \\right) + \\frac{3}{2} \\left( \\mathrm{v1}\\left( T \\right) \\right)^{2} \\alpha \\mathrm{u2}\\left( T \\right) - 2 \\omega \\mathrm{u2}\\left( T \\right) \\mathrm{\\Delta\\omega}\\left( T \\right) =& 0 \\\\\n",
       "{\\omega}0^{2} \\mathrm{v2}\\left( T \\right) + \\frac{3}{4} \\left( \\mathrm{v2}\\left( T \\right) \\right)^{3} \\alpha - \\omega^{2} \\mathrm{v2}\\left( T \\right) - \\left( \\mathrm{\\Delta\\omega}\\left( T \\right) \\right)^{2} \\mathrm{v2}\\left( T \\right) - 2 \\omega \\frac{du2(T)}{dT} - 2 \\mathrm{\\Delta\\omega}\\left( T \\right) \\frac{du2(T)}{dT} + \\frac{3}{4} \\left( \\mathrm{u2}\\left( T \\right) \\right)^{2} \\alpha \\mathrm{v2}\\left( T \\right) + \\frac{3}{2} \\left( \\mathrm{u1}\\left( T \\right) \\right)^{2} \\alpha \\mathrm{v2}\\left( T \\right) + \\frac{3}{2} \\left( \\mathrm{u3}\\left( T \\right) \\right)^{2} \\alpha \\mathrm{v2}\\left( T \\right) + \\frac{3}{2} \\left( \\mathrm{v1}\\left( T \\right) \\right)^{2} \\alpha \\mathrm{v2}\\left( T \\right) - 2 \\omega \\mathrm{v2}\\left( T \\right) \\mathrm{\\Delta\\omega}\\left( T \\right) + \\frac{3}{2} \\alpha \\mathrm{u1}\\left( T \\right) \\mathrm{u3}\\left( T \\right) \\mathrm{v1}\\left( T \\right) =& 0 \\\\\n",
       "{\\omega}0^{2} \\mathrm{u3}\\left( T \\right) + \\frac{3}{4} \\left( \\mathrm{u3}\\left( T \\right) \\right)^{3} \\alpha - \\omega^{2} \\mathrm{u3}\\left( T \\right) - \\left( \\mathrm{\\Delta\\omega}\\left( T \\right) \\right)^{2} \\mathrm{u3}\\left( T \\right) + \\frac{3}{4} \\left( \\mathrm{u1}\\left( T \\right) \\right)^{2} \\alpha \\mathrm{u2}\\left( T \\right) + \\frac{3}{2} \\left( \\mathrm{u1}\\left( T \\right) \\right)^{2} \\alpha \\mathrm{u3}\\left( T \\right) + \\frac{3}{2} \\left( \\mathrm{u2}\\left( T \\right) \\right)^{2} \\alpha \\mathrm{u3}\\left( T \\right) - \\frac{3}{4} \\left( \\mathrm{v1}\\left( T \\right) \\right)^{2} \\alpha \\mathrm{u2}\\left( T \\right) + \\frac{3}{2} \\left( \\mathrm{v1}\\left( T \\right) \\right)^{2} \\alpha \\mathrm{u3}\\left( T \\right) + \\frac{3}{2} \\left( \\mathrm{v2}\\left( T \\right) \\right)^{2} \\alpha \\mathrm{u3}\\left( T \\right) + 2 \\omega \\mathrm{u3}\\left( T \\right) \\mathrm{\\Delta\\omega}\\left( T \\right) + \\frac{3}{2} \\alpha \\mathrm{u1}\\left( T \\right) \\mathrm{v1}\\left( T \\right) \\mathrm{v2}\\left( T \\right) =& 0 \\\\\n",
       " - 2 \\omega \\frac{du3(T)}{dT} + 2 \\mathrm{\\Delta\\omega}\\left( T \\right) \\frac{du3(T)}{dT} - \\frac{3}{4} \\left( \\mathrm{u1}\\left( T \\right) \\right)^{2} \\alpha \\mathrm{v2}\\left( T \\right) + \\frac{3}{4} \\left( \\mathrm{v1}\\left( T \\right) \\right)^{2} \\alpha \\mathrm{v2}\\left( T \\right) + \\frac{3}{2} \\alpha \\mathrm{u1}\\left( T \\right) \\mathrm{u2}\\left( T \\right) \\mathrm{v1}\\left( T \\right) =& 0\n",
       "\\end{align}\n"
      ],
      "text/plain": [
       "6-element Vector{Symbolics.Equation}:\n",
       " (ω0^2)*u1(T) + (3//4)*α*(u1(T)^3) + (2//1)*ω*Differential(T)(v1(T)) + (3//4)*α*(v1(T)^2)*u1(T) + (3//2)*α*(u2(T)^2)*u1(T) + (3//2)*α*(u3(T)^2)*u1(T) + (3//2)*α*(v2(T)^2)*u1(T) + (3//2)*α*u1(T)*u2(T)*u3(T) + (3//2)*α*u3(T)*v1(T)*v2(T) - (ω^2)*u1(T) ~ F\n",
       " (ω0^2)*v1(T) + (3//4)*α*(v1(T)^3) + (3//4)*α*(u1(T)^2)*v1(T) + (3//2)*α*(u2(T)^2)*v1(T) + (3//2)*α*(u3(T)^2)*v1(T) + (3//2)*α*(v2(T)^2)*v1(T) + (3//2)*α*u1(T)*u3(T)*v2(T) - (ω^2)*v1(T) - (2//1)*ω*Differential(T)(u1(T)) - (3//2)*α*u2(T)*u3(T)*v1(T) ~ 0\n",
       " (ω0^2)*u2(T) + (3//4)*α*(u2(T)^3) + (2//1)*ω*Differential(T)(v2(T)) + (2//1)*Δω(T)*Differential(T)(v2(T)) + (3//2)*α*(u1(T)^2)*u2(T) + (3//4)*α*(u1(T)^2)*u3(T) + (3//4)*α*(v2(T)^2)*u2(T) + (3//2)*α*(u3(T)^2)*u2(T) + (3//2)*α*(v1(T)^2)*u2(T) - (ω^2)*u2(T) - (Δω(T)^2)*u2(T) - (3//4)*α*(v1(T)^2)*u3(T) - (2//1)*ω*u2(T)*Δω(T) ~ 0\n",
       " (ω0^2)*v2(T) + (3//4)*α*(v2(T)^3) + (3//4)*α*(u2(T)^2)*v2(T) + (3//2)*α*(u1(T)^2)*v2(T) + (3//2)*α*(u3(T)^2)*v2(T) + (3//2)*α*(v1(T)^2)*v2(T) + (3//2)*α*u1(T)*u3(T)*v1(T) - (ω^2)*v2(T) - (Δω(T)^2)*v2(T) - (2//1)*ω*Differential(T)(u2(T)) - (2//1)*Δω(T)*Differential(T)(u2(T)) - (2//1)*ω*v2(T)*Δω(T) ~ 0\n",
       " (ω0^2)*u3(T) + (3//4)*α*(u3(T)^3) + (3//4)*α*(u1(T)^2)*u2(T) + (3//2)*α*(u1(T)^2)*u3(T) + (3//2)*α*(u2(T)^2)*u3(T) + (3//2)*α*(v1(T)^2)*u3(T) + (3//2)*α*(v2(T)^2)*u3(T) + (2//1)*ω*u3(T)*Δω(T) + (3//2)*α*u1(T)*v1(T)*v2(T) - (ω^2)*u3(T) - (Δω(T)^2)*u3(T) - (3//4)*α*(v1(T)^2)*u2(T) ~ 0\n",
       " (2//1)*Δω(T)*Differential(T)(u3(T)) + (3//4)*α*(v1(T)^2)*v2(T) + (3//2)*α*u1(T)*u2(T)*v1(T) - (2//1)*ω*Differential(T)(u3(T)) - (3//4)*α*(u1(T)^2)*v2(T) ~ 0"
      ]
     },
     "execution_count": 27,
     "metadata": {},
     "output_type": "execute_result"
    }
   ],
   "source": [
    "prob.eom.equations"
   ]
  },
  {
   "cell_type": "markdown",
   "metadata": {},
   "source": [
    "# Solving the resulting polynomial equations"
   ]
  },
  {
   "cell_type": "code",
   "execution_count": 29,
   "metadata": {},
   "outputs": [
    {
     "name": "stderr",
     "output_type": "stream",
     "text": [
      "\u001b[32mSolving via total degree homotopy ... 100%|██████████████████████████████████████████████████| Time: 0:00:30\u001b[39m\n"
     ]
    },
    {
     "ename": "LoadError",
     "evalue": "No solutions found!",
     "output_type": "error",
     "traceback": [
      "No solutions found!",
      "",
      "Stacktrace:",
      " [1] error(s::String)",
      "   @ Base ./error.jl:33",
      " [2] get_steady_states(prob::Problem, swept_parameters::OrderedDict{Symbolics.Num, Vector{Float64}}, fixed_parameters::OrderedDict{Symbolics.Num, Float64}; random_warmup::Bool, threading::Bool, sorting::String)",
      "   @ HarmonicBalance ~/.julia/dev/HarmonicBalance/src/solve_homotopy.jl:101",
      " [3] get_steady_states(p::Problem, swept::Pair{Symbolics.Num, LinRange{Float64, Int64}}, fixed::Tuple{Pair{Symbolics.Num, Float64}, Pair{Symbolics.Num, Float64}, Pair{Symbolics.Num, Float64}}; kwargs::Base.Pairs{Symbol, Bool, Tuple{Symbol}, NamedTuple{(:random_warmup,), Tuple{Bool}}})",
      "   @ HarmonicBalance ~/.julia/dev/HarmonicBalance/src/solve_homotopy.jl:120",
      " [4] top-level scope",
      "   @ In[29]:3",
      " [5] eval",
      "   @ ./boot.jl:373 [inlined]",
      " [6] include_string(mapexpr::typeof(REPL.softscope), mod::Module, code::String, filename::String)",
      "   @ Base ./loading.jl:1196"
     ]
    }
   ],
   "source": [
    "fixed = (α => 1., ω0 => 1.0, F => 0.01)   # fixed parameters\n",
    "swept = ω => LinRange(1.1, 1.2, 3)           # range of parameter values\n",
    "solutions = get_steady_states(prob, swept, fixed, random_warmup=false)"
   ]
  },
  {
   "cell_type": "code",
   "execution_count": null,
   "metadata": {},
   "outputs": [],
   "source": [
    "@doc HarmonicBalance.HomotopyContinuation.newton"
   ]
  },
  {
   "cell_type": "code",
   "execution_count": 48,
   "metadata": {},
   "outputs": [
    {
     "data": {
      "text/plain": [
       ":success"
      ]
     },
     "execution_count": 48,
     "metadata": {},
     "output_type": "execute_result"
    }
   ],
   "source": [
    "using LinearAlgebra\n",
    "pars = [1.0, 1.1, 1.0, 0.01]\n",
    "\n",
    "code = :rejected\n",
    "while code == :rejected\n",
    "    res = HarmonicBalance.HomotopyContinuation.newton(prob.system, cat(-0.5*randn(2), -0.001*randn(3), 1,dims=1), pars, max_iters=300, atol=1e-10)\n",
    "    code = res.return_code\n",
    "end\n",
    "\n",
    "norm(res.x).^2\n",
    "res.return_code"
   ]
  },
  {
   "cell_type": "code",
   "execution_count": 49,
   "metadata": {},
   "outputs": [
    {
     "data": {
      "text/plain": [
       "6-element Vector{ComplexF64}:\n",
       "    -0.5035067606122274 + 0.0im\n",
       " -8.546010971183819e-65 + 0.0im\n",
       " -4.527839539413356e-72 + 0.0im\n",
       "  2.263919769706678e-72 + 0.0im\n",
       "                    0.0 + 0.0im\n",
       "     1.1410232244247949 + 0.0im"
      ]
     },
     "execution_count": 49,
     "metadata": {},
     "output_type": "execute_result"
    }
   ],
   "source": [
    "res.x"
   ]
  },
  {
   "cell_type": "code",
   "execution_count": null,
   "metadata": {},
   "outputs": [],
   "source": [
    "plt = plot_1D_solutions(solutions, x=\"F0\", y=\"u1^2 + v1^2\");\n",
    "#HarmonicBalance.savefig(\"asym.png\")"
   ]
  },
  {
   "cell_type": "code",
   "execution_count": null,
   "metadata": {},
   "outputs": [],
   "source": [
    "import HarmonicBalance.TimeEvolution: ODEProblem, DifferentialEquations.solve, ParameterSweep\n",
    "initial_state = solutions[1][1]\n",
    "\n",
    "T = 2E6\n",
    "sweep = ParameterSweep(F0 => (0.002, 0.011), (0,T))\n",
    "TDproblem = ODEProblem(harmonic_eq, initial_state, sweep=sweep, timespan=(0,2*T))\n",
    "TDsoln = solve(TDproblem, saveat=1);"
   ]
  },
  {
   "cell_type": "code",
   "execution_count": null,
   "metadata": {},
   "outputs": [],
   "source": [
    "plot(TDsoln.t, getindex.(TDsoln.u, 1));\n",
    "#HarmonicBalance.xlabel(\"time\", fontsize=24)\n",
    "#HarmonicBalance.ylabel(HarmonicBalance.latexify(\"u_1\"), fontsize=24)"
   ]
  },
  {
   "cell_type": "code",
   "execution_count": null,
   "metadata": {},
   "outputs": [],
   "source": [
    "u(i) = getindex.(TDsoln.u, i)[Int(1.5*T):end]\n",
    "plot(u(1), u(2))\n",
    "plot(u(3), u(4));\n",
    "#HarmonicBalance.xlabel(HarmonicBalance.latexify(\"u_1, u_2\"), fontsize=24)\n",
    "#HarmonicBalance.ylabel(HarmonicBalance.latexify(\"v_1, v_2\"), fontsize=24)"
   ]
  },
  {
   "cell_type": "code",
   "execution_count": null,
   "metadata": {},
   "outputs": [],
   "source": []
  }
 ],
 "metadata": {
  "kernelspec": {
   "display_name": "Julia 1.7.0",
   "language": "julia",
   "name": "julia-1.7"
  },
  "language_info": {
   "file_extension": ".jl",
   "mimetype": "application/julia",
   "name": "julia",
   "version": "1.7.0"
  }
 },
 "nbformat": 4,
 "nbformat_minor": 4
}
